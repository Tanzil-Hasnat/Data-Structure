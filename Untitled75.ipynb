{
  "cells": [
    {
      "cell_type": "markdown",
      "metadata": {
        "id": "view-in-github",
        "colab_type": "text"
      },
      "source": [
        "<a href=\"https://colab.research.google.com/github/Tanzil-Hasnat/Data-Structure/blob/main/Untitled75.ipynb\" target=\"_parent\"><img src=\"https://colab.research.google.com/assets/colab-badge.svg\" alt=\"Open In Colab\"/></a>"
      ]
    },
    {
      "cell_type": "code",
      "execution_count": null,
      "metadata": {
        "colab": {
          "base_uri": "https://localhost:8080/"
        },
        "id": "nZHe8aTYcfD6",
        "outputId": "fff4801e-5f64-47d9-f0fb-b13f4a2396cc"
      },
      "outputs": [
        {
          "name": "stdout",
          "output_type": "stream",
          "text": [
            "Mounted at /content/drive\n"
          ]
        }
      ],
      "source": [
        "from google.colab import drive\n",
        "drive.mount('/content/drive')"
      ]
    },
    {
      "cell_type": "code",
      "execution_count": null,
      "metadata": {
        "id": "NXGK8rNOcnSn"
      },
      "outputs": [],
      "source": [
        "import numpy as np\n",
        "import os\n",
        "import PIL\n",
        "import PIL.Image\n",
        "import tensorflow as tf\n",
        "import tensorflow_datasets as tfds\n",
        "import pathlib\n",
        "from urllib.request import urlopen\n",
        "from io import BytesIO\n",
        "from zipfile import ZipFile\n",
        "import matplotlib.pyplot as plt\n"
      ]
    },
    {
      "cell_type": "code",
      "execution_count": null,
      "metadata": {
        "id": "25LKwBkCcnVq"
      },
      "outputs": [],
      "source": [
        "train_path = \"/content/drive/MyDrive/DATASET/Project Datasets/ORIGA-LIGHT\""
      ]
    },
    {
      "cell_type": "code",
      "execution_count": null,
      "metadata": {
        "colab": {
          "base_uri": "https://localhost:8080/",
          "height": 162
        },
        "id": "mCyeGTjycnY6",
        "outputId": "ac84b68f-0b72-4c8c-bee9-d7724796ca4b"
      },
      "outputs": [
        {
          "name": "stdout",
          "output_type": "stream",
          "text": [
            "6000\n"
          ]
        },
        {
          "data": {
            "image/png": "[encoded data removed]",
            "text/plain": [
              "<PIL.PngImagePlugin.PngImageFile image mode=RGB size=128x128 at 0x7F4EFAB1D220>"
            ]
          },
          "execution_count": 5,
          "metadata": {},
          "output_type": "execute_result"
        }
      ],
      "source": [
        "#data = \"./resized-data\"\n",
        "data_dir = pathlib.Path(train_path)\n",
        "\n",
        "image_count = len(list(data_dir.glob('*/*.png')))\n",
        "print(image_count)\n",
        "\n",
        "normal = list(data_dir.glob('Normal/*'))\n",
        "PIL.Image.open(str(normal[2]))"
      ]
    },
    {
      "cell_type": "code",
      "execution_count": null,
      "metadata": {
        "colab": {
          "base_uri": "https://localhost:8080/"
        },
        "id": "W5DIRDq6cncy",
        "outputId": "e9a2fcbb-3e92-45dd-bfb3-87c076afe222"
      },
      "outputs": [
        {
          "name": "stdout",
          "output_type": "stream",
          "text": [
            "Found 6000 files belonging to 2 classes.\n",
            "Using 4800 files for training.\n",
            "Found 6000 files belonging to 2 classes.\n",
            "Using 1200 files for validation.\n",
            "['Glaucoma', 'Normal']\n",
            "['Glaucoma', 'Normal']\n"
          ]
        }
      ],
      "source": [
        "#Preparing the training and testing data\n",
        "batch_size = 8\n",
        "img_height = 224\n",
        "img_width = 224\n",
        "\n",
        "train_ds = tf.keras.preprocessing.image_dataset_from_directory(\n",
        "  train_path,\n",
        "  validation_split=0.2,\n",
        "  subset=\"training\",\n",
        "  labels='inferred',\n",
        "  label_mode='categorical',\n",
        "  seed=123,\n",
        "  image_size=(img_height, img_width),\n",
        "  batch_size=batch_size)\n",
        "\n",
        "val_ds = tf.keras.preprocessing.image_dataset_from_directory(\n",
        "  train_path,\n",
        "  validation_split=0.2,\n",
        "  subset=\"validation\",\n",
        "  labels='inferred',\n",
        "  label_mode='categorical',\n",
        "  seed=123,\n",
        "  image_size=(img_height, img_width),\n",
        "  batch_size=batch_size)\n",
        "\n",
        "class_names1 = train_ds.class_names\n",
        "class_names2 = val_ds.class_names\n",
        "print(class_names1)\n",
        "print(class_names2)\n"
      ]
    },
    {
      "cell_type": "code",
      "execution_count": null,
      "metadata": {
        "colab": {
          "base_uri": "https://localhost:8080/"
        },
        "id": "bE-1UioGcvwC",
        "outputId": "f695da61-4215-4a00-d044-f78039128d5a"
      },
      "outputs": [
        {
          "name": "stdout",
          "output_type": "stream",
          "text": [
            "[[0. 1.]\n",
            " [1. 0.]\n",
            " [1. 0.]\n",
            " [1. 0.]\n",
            " [1. 0.]\n",
            " [0. 1.]\n",
            " [0. 1.]\n",
            " [1. 0.]]\n",
            "[[0. 1.]\n",
            " [1. 0.]\n",
            " [1. 0.]\n",
            " [0. 1.]\n",
            " [1. 0.]\n",
            " [1. 0.]\n",
            " [0. 1.]\n",
            " [1. 0.]]\n"
          ]
        }
      ],
      "source": [
        "# we changed here\n",
        "\n",
        "y_train = np.array([])\n",
        "y_test = np.array([])\n",
        "for x, y in train_ds:\n",
        "  y_train = y.numpy()\n",
        "  x_train = x.numpy()\n",
        "for x, y in val_ds:\n",
        "  y_test = y.numpy()\n",
        "  x_test = x.numpy()\n",
        "\n",
        "print(y_train)\n",
        "print(y_test)"
      ]
    },
    {
      "cell_type": "code",
      "execution_count": null,
      "metadata": {
        "colab": {
          "base_uri": "https://localhost:8080/"
        },
        "id": "Oj3OGEjmcvzW",
        "outputId": "eee5d066-1836-4a86-95e5-2c50d14bc10f"
      },
      "outputs": [
        {
          "name": "stdout",
          "output_type": "stream",
          "text": [
            "(8, 224, 224, 3)\n",
            "(8, 2)\n",
            "(8, 224, 224, 3)\n",
            "(8, 2)\n"
          ]
        }
      ],
      "source": [
        "#Checking the training and testing dataset shape\n",
        "for image_batch, labels_batch in train_ds:\n",
        "  print(image_batch.shape)\n",
        "  print(labels_batch.shape)\n",
        "  break\n",
        "\n",
        "for image_batch, labels_batch in val_ds:\n",
        "  print(image_batch.shape)\n",
        "  print(labels_batch.shape)\n",
        "  break"
      ]
    },
    {
      "cell_type": "code",
      "execution_count": null,
      "metadata": {
        "id": "NgZcNFUucv2C"
      },
      "outputs": [],
      "source": [
        "import keras.backend as K\n",
        "from keras.models import Model\n",
        "from keras.layers import Input, Dense, Conv2D, Conv3D, DepthwiseConv2D, SeparableConv2D, Conv3DTranspose\n",
        "from keras.layers import Flatten, MaxPool2D, AvgPool2D, GlobalAvgPool2D, UpSampling2D, BatchNormalization\n",
        "from keras.layers import Concatenate, Add, Dropout, ReLU, Lambda, Activation, LeakyReLU, PReLU\n",
        "\n",
        "from IPython.display import SVG\n",
        "from keras.utils.vis_utils import model_to_dot\n",
        "\n",
        "from time import time\n",
        "from sklearn.metrics import precision_recall_curve,roc_curve,roc_auc_score,auc,f1_score\n",
        "from sklearn import metrics\n",
        "import keras\n",
        "\n",
        "from keras.layers import Input, Dense, Conv2D, Conv3D, DepthwiseConv2D, SeparableConv2D, Conv3DTranspose\n",
        "from keras.layers import Flatten, MaxPool2D, AvgPool2D, GlobalAvgPool2D, UpSampling2D, BatchNormalization\n",
        "from keras.layers import Concatenate, Add, Dropout, ReLU, Lambda, Activation, LeakyReLU, PReLU\n",
        "from tensorflow.keras.callbacks import ModelCheckpoint,EarlyStopping, ReduceLROnPlateau"
      ]
    },
    {
      "cell_type": "markdown",
      "metadata": {
        "id": "Dyialw001fhP"
      },
      "source": [
        "# **CNN**"
      ]
    },
    {
      "cell_type": "code",
      "execution_count": null,
      "metadata": {
        "id": "8u7NkeTs1fhZ"
      },
      "outputs": [],
      "source": [
        "from keras.models import Sequential\n",
        "from keras.layers import Conv2D, MaxPooling2D\n",
        "num_classes = 2\n",
        "\n",
        "CNN_model = Sequential()\n",
        "CNN_model.add(Conv2D(32, kernel_size=(3, 3),activation='linear',input_shape=(224,224,3),padding='same'))\n",
        "CNN_model.add(LeakyReLU(alpha=0.1))\n",
        "CNN_model.add(MaxPooling2D((2, 2),padding='same'))\n",
        "CNN_model.add(Conv2D(64, (3, 3), activation='linear',padding='same'))\n",
        "CNN_model.add(LeakyReLU(alpha=0.1))\n",
        "CNN_model.add(MaxPooling2D(pool_size=(2, 2),padding='same'))\n",
        "CNN_model.add(Conv2D(128, (3, 3), activation='linear',padding='same'))\n",
        "CNN_model.add(LeakyReLU(alpha=0.1))                  \n",
        "CNN_model.add(MaxPooling2D(pool_size=(2, 2),padding='same'))\n",
        "CNN_model.add(Flatten())\n",
        "CNN_model.add(Dense(128, activation='linear'))\n",
        "CNN_model.add(LeakyReLU(alpha=0.1))                  \n",
        "CNN_model.add(Dense(num_classes, activation='sigmoid'))"
      ]
    },
    {
      "cell_type": "code",
      "execution_count": null,
      "metadata": {
        "id": "QAY4VRdT1fha"
      },
      "outputs": [],
      "source": [
        "CNN_model.compile( loss=tf.keras.losses.binary_crossentropy ,optimizer=tf.keras.optimizers.Adam( learning_rate=0.0001 ) ,metrics=['accuracy',\n",
        "                                                                                                                    tf.keras.metrics.Precision(),\n",
        "                                                                                                                    tf.keras.metrics.Recall()])"
      ]
    },
    {
      "cell_type": "code",
      "execution_count": null,
      "metadata": {
        "colab": {
          "base_uri": "https://localhost:8080/"
        },
        "id": "AE-QiFyf1fha",
        "outputId": "fe473c98-4f3f-4cc2-b4fd-0ce0c05bfc1f"
      },
      "outputs": [
        {
          "name": "stdout",
          "output_type": "stream",
          "text": [
            "Model: \"sequential\"\n",
            "_________________________________________________________________\n",
            " Layer (type)                Output Shape              Param #   \n",
            "=================================================================\n",
            " conv2d (Conv2D)             (None, 224, 224, 32)      896       \n",
            "                                                                 \n",
            " leaky_re_lu (LeakyReLU)     (None, 224, 224, 32)      0         \n",
            "                                                                 \n",
            " max_pooling2d (MaxPooling2D  (None, 112, 112, 32)     0         \n",
            " )                                                               \n",
            "                                                                 \n",
            " conv2d_1 (Conv2D)           (None, 112, 112, 64)      18496     \n",
            "                                                                 \n",
            " leaky_re_lu_1 (LeakyReLU)   (None, 112, 112, 64)      0         \n",
            "                                                                 \n",
            " max_pooling2d_1 (MaxPooling  (None, 56, 56, 64)       0         \n",
            " 2D)                                                             \n",
            "                                                                 \n",
            " conv2d_2 (Conv2D)           (None, 56, 56, 128)       73856     \n",
            "                                                                 \n",
            " leaky_re_lu_2 (LeakyReLU)   (None, 56, 56, 128)       0         \n",
            "                                                                 \n",
            " max_pooling2d_2 (MaxPooling  (None, 28, 28, 128)      0         \n",
            " 2D)                                                             \n",
            "                                                                 \n",
            " flatten (Flatten)           (None, 100352)            0         \n",
            "                                                                 \n",
            " dense (Dense)               (None, 128)               12845184  \n",
            "                                                                 \n",
            " leaky_re_lu_3 (LeakyReLU)   (None, 128)               0         \n",
            "                                                                 \n",
            " dense_1 (Dense)             (None, 2)                 258       \n",
            "                                                                 \n",
            "=================================================================\n",
            "Total params: 12,938,690\n",
            "Trainable params: 12,938,690\n",
            "Non-trainable params: 0\n",
            "_________________________________________________________________\n"
          ]
        }
      ],
      "source": [
        "CNN_model.summary()"
      ]
    },
    {
      "cell_type": "code",
      "execution_count": null,
      "metadata": {
        "colab": {
          "base_uri": "https://localhost:8080/"
        },
        "id": "gjli3F8-1fha",
        "outputId": "d5e197cb-b9ce-4074-928d-e9486d265939"
      },
      "outputs": [
        {
          "name": "stdout",
          "output_type": "stream",
          "text": [
            "Epoch 1/10\n",
            "600/600 [==============================] - 25s 28ms/step - loss: 0.7279 - accuracy: 0.8829 - precision: 0.8820 - recall: 0.8800 - val_loss: 0.1461 - val_accuracy: 0.9450 - val_precision: 0.9465 - val_recall: 0.9442\n",
            "Epoch 2/10\n",
            "600/600 [==============================] - 16s 27ms/step - loss: 0.0448 - accuracy: 0.9908 - precision: 0.9902 - recall: 0.9912 - val_loss: 0.0176 - val_accuracy: 0.9958 - val_precision: 0.9958 - val_recall: 0.9942\n",
            "Epoch 3/10\n",
            "600/600 [==============================] - 17s 29ms/step - loss: 0.0175 - accuracy: 0.9979 - precision: 0.9952 - recall: 0.9967 - val_loss: 0.0079 - val_accuracy: 0.9992 - val_precision: 0.9992 - val_recall: 0.9992\n",
            "Epoch 4/10\n",
            "600/600 [==============================] - 16s 27ms/step - loss: 0.0040 - accuracy: 0.9998 - precision: 0.9996 - recall: 1.0000 - val_loss: 0.0040 - val_accuracy: 0.9992 - val_precision: 1.0000 - val_recall: 0.9992\n",
            "Epoch 5/10\n",
            "600/600 [==============================] - 16s 27ms/step - loss: 0.0016 - accuracy: 1.0000 - precision: 1.0000 - recall: 1.0000 - val_loss: 0.0028 - val_accuracy: 0.9992 - val_precision: 1.0000 - val_recall: 0.9992\n",
            "Epoch 6/10\n",
            "600/600 [==============================] - 17s 27ms/step - loss: 8.3958e-04 - accuracy: 1.0000 - precision: 1.0000 - recall: 1.0000 - val_loss: 0.0020 - val_accuracy: 1.0000 - val_precision: 1.0000 - val_recall: 1.0000\n",
            "Epoch 7/10\n",
            "600/600 [==============================] - 16s 27ms/step - loss: 4.5551e-04 - accuracy: 1.0000 - precision: 1.0000 - recall: 1.0000 - val_loss: 0.0014 - val_accuracy: 1.0000 - val_precision: 1.0000 - val_recall: 1.0000\n",
            "Epoch 8/10\n",
            "600/600 [==============================] - 16s 27ms/step - loss: 3.0035e-04 - accuracy: 1.0000 - precision: 1.0000 - recall: 1.0000 - val_loss: 9.3845e-04 - val_accuracy: 1.0000 - val_precision: 1.0000 - val_recall: 1.0000\n",
            "Epoch 9/10\n",
            "600/600 [==============================] - 16s 27ms/step - loss: 0.1398 - accuracy: 0.9831 - precision: 0.9800 - recall: 0.9798 - val_loss: 0.0434 - val_accuracy: 0.9875 - val_precision: 0.9875 - val_recall: 0.9883\n",
            "Epoch 10/10\n",
            "600/600 [==============================] - 16s 27ms/step - loss: 0.0128 - accuracy: 0.9958 - precision: 0.9952 - recall: 0.9954 - val_loss: 0.0171 - val_accuracy: 0.9983 - val_precision: 0.9975 - val_recall: 0.9983\n"
          ]
        },
        {
          "data": {
            "text/plain": [
              "<keras.callbacks.History at 0x7f4e9410ceb0>"
            ]
          },
          "execution_count": 13,
          "metadata": {},
          "output_type": "execute_result"
        }
      ],
      "source": [
        "batch_size = 8\n",
        "epochs = 10\n",
        "CNN_model.fit( train_ds, validation_data=val_ds, epochs=epochs , batch_size=batch_size )"
      ]
    },
    {
      "cell_type": "code",
      "execution_count": null,
      "metadata": {
        "colab": {
          "base_uri": "https://localhost:8080/"
        },
        "id": "UqMYpuxs1fha",
        "outputId": "16aa27e2-6927-4d0e-8138-6f7835d8462a"
      },
      "outputs": [
        {
          "name": "stdout",
          "output_type": "stream",
          "text": [
            "529/600 [=========================>....] - ETA: 1s - loss: 2.9440e-04 - accuracy: 1.0000 - precision: 1.0000 - recall: 1.0000"
          ]
        }
      ],
      "source": [
        "CNN_result = CNN_model.evaluate( train_ds, batch_size=8)\n",
        "print( 'Loss = {} %'.format( CNN_result[0]))\n",
        "print( 'Accuracy = {} %'.format( CNN_result[1] * 100))\n",
        "print( 'Precision = {} %'.format( CNN_result[2] * 100))\n",
        "print( 'Recall = {} %'.format( CNN_result[3] * 100))"
      ]
    },
    {
      "cell_type": "code",
      "execution_count": null,
      "metadata": {
        "id": "2BBiwYb21fhb"
      },
      "outputs": [],
      "source": [
        "CNN_result = CNN_model.evaluate( val_ds, batch_size=8)\n",
        "print( 'Loss = {} %'.format( CNN_result[0]))\n",
        "print( 'Accuracy = {} %'.format( CNN_result[1] * 100))\n",
        "print( 'Precision = {} %'.format( CNN_result[2] * 100))\n",
        "print( 'Recall = {} %'.format( CNN_result[3] * 100))"
      ]
    },
    {
      "cell_type": "code",
      "execution_count": null,
      "metadata": {
        "colab": {
          "background_save": true
        },
        "id": "Ta_MXLGcjflX"
      },
      "outputs": [],
      "source": [
        "from tensorflow.keras.preprocessing.image import ImageDataGenerator\n",
        "from tensorflow.keras.preprocessing import image\n",
        "from tensorflow.keras.utils import img_to_array"
      ]
    },
    {
      "cell_type": "code",
      "execution_count": null,
      "metadata": {
        "colab": {
          "background_save": true
        },
        "id": "8jaGezc9iJXH",
        "outputId": "cd09e442-8968-48ed-8de3-953a52b38b2a"
      },
      "outputs": [
        {
          "name": "stdout",
          "output_type": "stream",
          "text": [
            "1/1 [==============================] - 0s 193ms/step\n",
            "[[4.5292349e-08 9.9999964e-01]]\n",
            "Normal\n"
          ]
        }
      ],
      "source": [
        "# img = tf.keras.preprocessing.image.load_img('/content/drive/MyDrive/DATASET/Project Datasets/ORIGA-LIGHT/Normal/train-10180.png', target_size=( 224, 224, 3))\n",
        "\n",
        "img = tf.keras.preprocessing.image.load_img('/content/drive/MyDrive/DATASET/Project Datasets/ORIGA-LIGHT/Normal/train-10180.png', target_size=( 224, 224, 3))\n",
        "\n",
        "x = img_to_array(img)\n",
        "x = np.expand_dims(x, axis = 0)\n",
        "image = np.vstack([x])\n",
        "\n",
        "val = CNN_model.predict(image)\n",
        "\n",
        "print(val)\n",
        "if val[0][0] >0.90:\n",
        "  print(\"Glaucoma\")  \n",
        "else:\n",
        "  print(\"Normal\")\n",
        "\n"
      ]
    },
    {
      "cell_type": "code",
      "execution_count": null,
      "metadata": {
        "id": "-nLl-i6LN2JZ"
      },
      "outputs": [],
      "source": [
        "!pip install colabcode\n",
        "!pip install fastapi"
      ]
    },
    {
      "cell_type": "code",
      "execution_count": null,
      "metadata": {
        "id": "FD2VkWyZOVcG"
      },
      "outputs": [],
      "source": [
        "from colabcode import ColabCode\n",
        "from fastapi import FastAPI"
      ]
    },
    {
      "cell_type": "code",
      "execution_count": null,
      "metadata": {
        "id": "hEETqGeCPU0U"
      },
      "outputs": [],
      "source": [
        "cc= ColabCode(port = 12000 , code =False)"
      ]
    },
    {
      "cell_type": "code",
      "execution_count": null,
      "metadata": {
        "id": "dTVUT8gVOobW"
      },
      "outputs": [],
      "source": [
        "app = FastAPI()\n",
        "@app.post(\"/\")\n",
        "async def predict():\n",
        "    #return f\"Hello collab!\"\n",
        "    file = request.files['file']\n",
        "    img = image.load_img(file, target_size=( 224, 224, 3))\n",
        "    x = image.img_to_array(img)\n",
        "    x = np.expand_dims(x, axis = 0)\n",
        "    image = np.vstack([x])\n",
        "    val = CNN_model.predict(image)\n",
        "    if val[0][0] >0.90:\n",
        "        return jsonify({'Prediction': 'Glaucoma'})\n",
        "    else:\n",
        "        return jsonify({'Prediction': 'Normal'})\n"
      ]
    },
    {
      "cell_type": "code",
      "execution_count": null,
      "metadata": {
        "id": "_qT6Rq2ZPHzp"
      },
      "outputs": [],
      "source": [
        "cc.run_app(app=app)"
      ]
    }
  ],
  "metadata": {
    "accelerator": "GPU",
    "colab": {
      "provenance": [],
      "include_colab_link": true
    },
    "gpuClass": "standard",
    "kernelspec": {
      "display_name": "Python 3",
      "name": "python3"
    },
    "language_info": {
      "name": "python"
    }
  },
  "nbformat": 4,
  "nbformat_minor": 0
}